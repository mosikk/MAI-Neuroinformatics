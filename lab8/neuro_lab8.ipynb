{
 "cells": [
  {
   "cell_type": "markdown",
   "metadata": {
    "id": "9dD_8P5BeCG_"
   },
   "source": [
    "# Нейроинформатика. Лабораторная работа 8\n",
    "### Динамические сети\n",
    "\n",
    "Целью работы является исследование свойств некоторых динамических нейронных сетей, алгоритмов обучения, а также применение сетей в задаче распознавания динамических образов.\n",
    "\n",
    "Выполнил Моисеенков Илья, 408Б"
   ]
  },
  {
   "cell_type": "code",
   "execution_count": null,
   "metadata": {
    "id": "xNGUfXp0dsCP"
   },
   "outputs": [],
   "source": [
    "import numpy as np\n",
    "\n",
    "import torch\n",
    "import torch.nn as nn\n",
    "import torch.optim as optim\n",
    "\n",
    "import matplotlib.pyplot as plt\n",
    "from collections import deque\n",
    "import tqdm"
   ]
  },
  {
   "cell_type": "markdown",
   "metadata": {
    "id": "EL9SG0Xpfmbb"
   },
   "source": [
    "Зададим два сигнала - управляющий сигнал ($u(k)$) и выходной ($y(k)$)."
   ]
  },
  {
   "cell_type": "code",
   "execution_count": null,
   "metadata": {
    "id": "D2gQZ49PeRJy"
   },
   "outputs": [],
   "source": [
    "def u(k):\n",
    "    return np.sin(k**2 - 2*k + 3)"
   ]
  },
  {
   "cell_type": "code",
   "execution_count": null,
   "metadata": {
    "id": "3DMxITB1gRUI"
   },
   "outputs": [],
   "source": [
    "N = 500 # количество элементов в датасете"
   ]
  },
  {
   "cell_type": "code",
   "execution_count": null,
   "metadata": {
    "colab": {
     "base_uri": "https://localhost:8080/"
    },
    "id": "Seq_8xe_gd7g",
    "outputId": "dd356256-6d84-477d-d98b-c8af67f45058"
   },
   "outputs": [
    {
     "data": {
      "text/plain": [
       "(500,)"
      ]
     },
     "execution_count": 4,
     "metadata": {},
     "output_type": "execute_result"
    }
   ],
   "source": [
    "t = np.linspace(0, 5, N)\n",
    "\n",
    "x = u(t) # буду обозначать входные данные через x, так привычнее\n",
    "\n",
    "y = [0]\n",
    "for i in range(len(t) - 1):\n",
    "    y.append(y[-1] / (1 + y[-1]**2) + x[i])\n",
    "\n",
    "y = np.array(y)\n",
    "assert x.shape == y.shape\n",
    "\n",
    "x.shape"
   ]
  },
  {
   "cell_type": "markdown",
   "metadata": {
    "id": "ggyf6DrJiALf"
   },
   "source": [
    "Сгенерируем датасет для обучения. Разобьем имеющиеся точки на временные ряды"
   ]
  },
  {
   "cell_type": "code",
   "execution_count": null,
   "metadata": {
    "id": "qsdZWKdUiRT-"
   },
   "outputs": [],
   "source": [
    "def gen_dataset(x, y, delay=5):\n",
    "    return [(\n",
    "        np.array(x[i:i+delay], dtype=np.float32),\n",
    "        np.array(y[i+delay], dtype=np.float32)\n",
    "     ) for i in range(len(x) - delay)]"
   ]
  },
  {
   "cell_type": "code",
   "execution_count": null,
   "metadata": {
    "id": "hXIqcNfNhE_U"
   },
   "outputs": [],
   "source": [
    "train_data = gen_dataset(x, y)"
   ]
  },
  {
   "cell_type": "markdown",
   "metadata": {
    "id": "498FfoYHP7LL"
   },
   "source": [
    "Подготовим торчевый дата лоадер"
   ]
  },
  {
   "cell_type": "code",
   "execution_count": null,
   "metadata": {
    "id": "qWVyATQXOW8k"
   },
   "outputs": [],
   "source": [
    "data_loader = torch.utils.data.DataLoader(train_data, batch_size=1, shuffle=False)"
   ]
  },
  {
   "cell_type": "code",
   "execution_count": null,
   "metadata": {
    "colab": {
     "base_uri": "https://localhost:8080/"
    },
    "id": "lA7JksqXO7P8",
    "outputId": "bd46dd88-c819-4e57-f87d-99a0be67aeb9"
   },
   "outputs": [
    {
     "name": "stdout",
     "output_type": "stream",
     "text": [
      "torch.Size([1, 5]) torch.Size([1])\n"
     ]
    }
   ],
   "source": [
    "for i in data_loader:\n",
    "    print(i[0].shape, i[1].shape)\n",
    "    break"
   ]
  },
  {
   "cell_type": "markdown",
   "metadata": {
    "id": "kjl32NBAitkd"
   },
   "source": [
    "Для решения этой задачи будем использовать сеть NARX. Для ее реализации нам понадобится вспомогательный слой TDL - Time Delay Layer. Реализуем сначала его. По сути это обертка над очередью, в которой мы придерживаем некоторые элементы на время."
   ]
  },
  {
   "cell_type": "code",
   "execution_count": null,
   "metadata": {
    "id": "srUKLg9eJDZe"
   },
   "outputs": [],
   "source": [
    "class TDL(nn.Module):\n",
    "    def __init__(self, in_features, delay=1):\n",
    "        super(TDL, self).__init__()\n",
    "        self.in_features = in_features\n",
    "        self.delay = delay\n",
    "        self.line = deque() # очередь с элементами\n",
    "        self.clear()\n",
    "    \n",
    "    def clear(self):\n",
    "        # очистим текущую очередь и заполним ее нулями\n",
    "        self.line.clear()\n",
    "        for i in range(self.delay):\n",
    "            self.line.append(torch.zeros(self.in_features))\n",
    "    \n",
    "    def push(self, input):\n",
    "        # добавить элемент в очередь\n",
    "        self.line.appendleft(input)\n",
    "    \n",
    "    def forward(self, input=None):\n",
    "        # возвращаем первый добавленный элемент и удаляем его из очереди\n",
    "        return self.line.pop()"
   ]
  },
  {
   "cell_type": "markdown",
   "metadata": {
    "id": "RQQX2yU3ksfl"
   },
   "source": [
    "Теперь можем реализовать NARX"
   ]
  },
  {
   "cell_type": "code",
   "execution_count": null,
   "metadata": {
    "id": "2ptXO25qKMTW"
   },
   "outputs": [],
   "source": [
    "class NARX(nn.Module):\n",
    "    def __init__(self, in_features, hidden_features, out_features, delay1, delay2):\n",
    "        super(NARX, self).__init__()\n",
    "\n",
    "        self.in_features = in_features\n",
    "        self.hidden_features = hidden_features\n",
    "        self.out_features = out_features\n",
    "\n",
    "        self.line1 = TDL(in_features, delay1)\n",
    "        self.line2 = TDL(out_features, delay2)\n",
    "\n",
    "        self.w1 = torch.nn.Parameter(torch.randn(in_features, hidden_features))\n",
    "        self.w2 = torch.nn.Parameter(torch.randn(hidden_features, out_features))\n",
    "        self.w3 = torch.nn.Parameter(torch.randn(out_features, hidden_features))\n",
    "\n",
    "        self.b1 = torch.nn.Parameter(torch.randn(hidden_features))\n",
    "        self.b2 = torch.nn.Parameter(torch.randn(out_features))\n",
    "\n",
    "    def clear(self):\n",
    "        self.line1.clear()\n",
    "        self.line2.clear()\n",
    "    \n",
    "    def forward(self, input):\n",
    "        res = torch.tanh(\n",
    "            self.line1() @ self.w1 + self.line2() @ self.w3 + self.b1\n",
    "        ) @ self.w2 + self.b2\n",
    "        self.line1.push(input.clone().detach()) # сохранять будем копии\n",
    "        self.line2.push(res.clone().detach())\n",
    "        return res"
   ]
  },
  {
   "cell_type": "markdown",
   "metadata": {
    "id": "yVpzHTRknRWp"
   },
   "source": [
    "Обучаем модель"
   ]
  },
  {
   "cell_type": "code",
   "execution_count": null,
   "metadata": {
    "id": "5_uV7fVLLv8K"
   },
   "outputs": [],
   "source": [
    "model = NARX(5, 10, 1, 3, 3)\n",
    "optimizer = torch.optim.Adam(model.parameters(), lr=1e-3)\n",
    "criterion = nn.MSELoss()\n",
    "epochs = 40"
   ]
  },
  {
   "cell_type": "code",
   "execution_count": null,
   "metadata": {
    "colab": {
     "base_uri": "https://localhost:8080/"
    },
    "id": "AIu0TtEhNJrf",
    "outputId": "f2c9094e-bcc5-4abc-e867-2db20b177e6a"
   },
   "outputs": [
    {
     "name": "stderr",
     "output_type": "stream",
     "text": [
      "\r",
      "  0%|          | 0/40 [00:00<?, ?it/s]/usr/local/lib/python3.8/dist-packages/torch/nn/modules/loss.py:536: UserWarning: Using a target size (torch.Size([1, 1])) that is different to the input size (torch.Size([1])). This will likely lead to incorrect results due to broadcasting. Please ensure they have the same size.\n",
      "  return F.mse_loss(input, target, reduction=self.reduction)\n",
      "100%|██████████| 40/40 [00:25<00:00,  1.55it/s]\n"
     ]
    }
   ],
   "source": [
    "loss = []\n",
    "model.train()\n",
    "for epoch in tqdm.tqdm(range(epochs)):\n",
    "    epoch_loss = []\n",
    "    for X_batch, y_batch in data_loader:\n",
    "        y_pred = model(X_batch)\n",
    "        cur_loss = criterion(y_batch, y_pred)\n",
    "        epoch_loss.append(cur_loss.item())\n",
    "        cur_loss.backward()\n",
    "\n",
    "        optimizer.step()\n",
    "        optimizer.zero_grad()\n",
    "    loss += [np.mean(epoch_loss)]"
   ]
  },
  {
   "cell_type": "markdown",
   "metadata": {
    "id": "xgXCKC3LrzUF"
   },
   "source": [
    "Посмотрим на график лосса"
   ]
  },
  {
   "cell_type": "code",
   "execution_count": null,
   "metadata": {
    "colab": {
     "base_uri": "https://localhost:8080/",
     "height": 513
    },
    "id": "4iEXHD29pCvb",
    "outputId": "f6111557-d36c-4684-ee25-92f8605c93cc"
   },
   "outputs": [
    {
     "data": {
      "image/png": "[encoded data removed]",
      "text/plain": [
       "<Figure size 1080x576 with 1 Axes>"
      ]
     },
     "metadata": {
      "needs_background": "light"
     },
     "output_type": "display_data"
    }
   ],
   "source": [
    "plt.figure(figsize=(15, 8))\n",
    "\n",
    "plt.xlabel('epoch')\n",
    "plt.ylabel('MSE')\n",
    "plt.plot(range(1, epochs+1), loss)\n",
    "plt.title('Loss')\n",
    "plt.grid()\n",
    "\n",
    "plt.show()"
   ]
  },
  {
   "cell_type": "code",
   "execution_count": null,
   "metadata": {
    "colab": {
     "base_uri": "https://localhost:8080/"
    },
    "id": "J2cH5MZiUrwu",
    "outputId": "0bf4df1d-ed62-47d5-fbb4-ae50a828882a"
   },
   "outputs": [
    {
     "name": "stdout",
     "output_type": "stream",
     "text": [
      "MSE = 0.026033247566106487\n"
     ]
    }
   ],
   "source": [
    "print(f'MSE = {loss[-1]}')"
   ]
  },
  {
   "cell_type": "markdown",
   "metadata": {
    "id": "nh3GFkdss1f3"
   },
   "source": [
    "Лосс падает, модель обучилась.\n",
    "\n",
    "Проверим работу модели"
   ]
  },
  {
   "cell_type": "code",
   "execution_count": null,
   "metadata": {
    "id": "HzGE-dSxSssU"
   },
   "outputs": [],
   "source": [
    "model.eval()\n",
    "model.clear()\n",
    "\n",
    "preds = []\n",
    "for X_batch, _ in data_loader:\n",
    "    preds.append(model(X_batch).detach().numpy().item(-1))"
   ]
  },
  {
   "cell_type": "code",
   "execution_count": null,
   "metadata": {
    "colab": {
     "base_uri": "https://localhost:8080/",
     "height": 483
    },
    "id": "bzwy3Q2Zr3-p",
    "outputId": "794dc26d-ac1f-4f5d-b6bc-30a4302267f8"
   },
   "outputs": [
    {
     "data": {
      "image/png": "[encoded data removed]",
      "text/plain": [
       "<Figure size 1080x576 with 1 Axes>"
      ]
     },
     "metadata": {
      "needs_background": "light"
     },
     "output_type": "display_data"
    }
   ],
   "source": [
    "plt.figure(figsize=(15, 8))\n",
    "\n",
    "plt.plot(t[5:], y[5:], label='true')\n",
    "plt.plot(t[5:], preds, label='predicted')\n",
    "plt.legend()\n",
    "plt.grid()\n",
    "plt.show()"
   ]
  },
  {
   "cell_type": "markdown",
   "metadata": {
    "id": "81aOhvsJs33O"
   },
   "source": [
    "Модель смогла достаточно точно приблизить искомый сигнал. Но правда наблюдается некая \"зубчатость\" предсказанного ответа на границах и на закруглениях кривой. Интересно, что с увеличением числа эпох количество таких зубцов только увеличивается"
   ]
  },
  {
   "cell_type": "markdown",
   "metadata": {
    "id": "FUyvbb84s7pr"
   },
   "source": [
    "### Вывод\n",
    "\n",
    "В данной лабораторной работе я познакомился с сетью NARX и попробовал применить ее для задачи предсказания сигнала. Сеть имеет довольно сложную архитектуру, при этом она довольно хорошо справилась с поставленной задачей. \n",
    "\n",
    "Получили MSE = 0.026"
   ]
  },
  {
   "cell_type": "code",
   "execution_count": null,
   "metadata": {
    "id": "RynHj_PKX_9K"
   },
   "outputs": [],
   "source": []
  }
 ],
 "metadata": {
  "colab": {
   "provenance": []
  },
  "kernelspec": {
   "display_name": "Python 3",
   "language": "python",
   "name": "python3"
  },
  "language_info": {
   "codemirror_mode": {
    "name": "ipython",
    "version": 3
   },
   "file_extension": ".py",
   "mimetype": "text/x-python",
   "name": "python",
   "nbconvert_exporter": "python",
   "pygments_lexer": "ipython3",
   "version": "3.8.5"
  }
 },
 "nbformat": 4,
 "nbformat_minor": 1
}
